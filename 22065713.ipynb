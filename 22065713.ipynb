{
 "cells": [
  {
   "cell_type": "code",
   "execution_count": 31,
   "id": "a5ad4b5b",
   "metadata": {},
   "outputs": [],
   "source": [
    "# Import necessary libraries\n",
    "import pandas as pd\n",
    "import numpy as np\n",
    "import matplotlib.pyplot as plt\n",
    "from matplotlib.gridspec import GridSpec\n",
    "import seaborn as sns"
   ]
  },
  {
   "cell_type": "code",
   "execution_count": 32,
   "id": "f723528a",
   "metadata": {},
   "outputs": [],
   "source": [
    "# Load the data\n",
    "data = pd.read_csv(\"C:\\\\Users\\\\kurva\\\\Downloads\\\\DATA HANDLING AND VISUVALIZATION\\\\PROJECT\\\\DATA.txt\")"
   ]
  },
  {
   "cell_type": "code",
   "execution_count": 33,
   "id": "14f34f27",
   "metadata": {},
   "outputs": [],
   "source": [
    "# Convert the data frame into a NumPy array\n",
    "data_array = np.array(data)\n",
    "\n",
    "# Get the unique major categories\n",
    "categories = np.unique(data_array[:, 3])\n",
    "\n",
    "# Create an empty list to store the results\n",
    "results = []"
   ]
  },
  {
   "cell_type": "code",
   "execution_count": 34,
   "id": "52b0e521",
   "metadata": {},
   "outputs": [
    {
     "name": "stderr",
     "output_type": "stream",
     "text": [
      "C:\\Users\\kurva\\AppData\\Local\\Temp\\ipykernel_15188\\2311705296.py:7: RuntimeWarning: Mean of empty slice\n",
      "  mean_median = np.nanmean(category_data[:, 8].astype(float))\n",
      "C:\\Users\\kurva\\AppData\\Local\\Temp\\ipykernel_15188\\2311705296.py:8: RuntimeWarning: Mean of empty slice\n",
      "  mean_unemployment = np.nanmean(category_data[:, 20].astype(float))\n"
     ]
    }
   ],
   "source": [
    "# Loop through each category\n",
    "for category in categories:\n",
    "    # Filter the data array by the category\n",
    "    category_data = data_array[np.where(data_array[:, 3] == category)]\n",
    "    \n",
    "    # Calculate the mean, median income and unemployment rate for the category\n",
    "    mean_median = np.nanmean(category_data[:, 8].astype(float))\n",
    "    mean_unemployment = np.nanmean(category_data[:, 20].astype(float))\n",
    "    \n",
    "    # Append the results to the list\n",
    "    results.append([category, mean_median, mean_unemployment])\n",
    "\n",
    "# Convert the results list into a NumPy array\n",
    "results_array = np.array(results)\n"
   ]
  },
  {
   "cell_type": "code",
   "execution_count": 35,
   "id": "3a5dfffb",
   "metadata": {},
   "outputs": [
    {
     "data": {
      "text/plain": [
       "<Figure size 2500x2000 with 0 Axes>"
      ]
     },
     "metadata": {},
     "output_type": "display_data"
    }
   ],
   "source": [
    "# Create a figure with multiple subplots using GridSpec\n",
    "fig = plt.figure(figsize=(25, 20))  # Adjusted figure size\n",
    "gs = GridSpec(2, 3, figure=fig)"
   ]
  },
  {
   "cell_type": "code",
   "execution_count": 36,
   "id": "07cc22ab",
   "metadata": {},
   "outputs": [],
   "source": [
    "# Define the axes\n",
    "ax1 = fig.add_subplot(gs[0, 0])\n",
    "ax2 = fig.add_subplot(gs[0, 1])\n",
    "ax3 = fig.add_subplot(gs[0, 2])\n",
    "ax4 = fig.add_subplot(gs[1, 0])\n",
    "ax5 = fig.add_subplot(gs[1, 1])\n",
    "ax6 = fig.add_subplot(gs[1, 2])"
   ]
  },
  {
   "cell_type": "code",
   "execution_count": 37,
   "id": "9af50c66",
   "metadata": {},
   "outputs": [],
   "source": [
    "# Plot 1: Bar chart of top 10 majors by median income\n",
    "top_10 = data.sort_values(by=\"Median\", ascending=False).head(10)\n",
    "sns.barplot(x=\"Median\", y=\"Major\", data=top_10, color=\"blue\", label=\"Median income\", ax=ax1)\n",
    "ax1.set_xlabel(\"Median income ($)\", fontweight='bold')\n",
    "ax1.set_ylabel(\"Major\", fontweight='bold')\n",
    "ax1.set_title(\"TOP 10 MAJOR COURSES BY MEDIAN INCOME\", fontweight='bold')\n",
    "ax1.invert_yaxis()"
   ]
  },
  {
   "cell_type": "code",
   "execution_count": 38,
   "id": "8dbd0d73",
   "metadata": {},
   "outputs": [
    {
     "data": {
      "text/plain": [
       "Text(0.5, 1.0, 'DISTRIBUTION OF % OF WOMEN IN EACH MAJOR CATEGORY')"
      ]
     },
     "execution_count": 38,
     "metadata": {},
     "output_type": "execute_result"
    }
   ],
   "source": [
    "# Plot 2: Histogram of percentage of women in each major category\n",
    "sns.histplot(x = \"ShareWomen\", data = data, bins = 25, edgecolor = \"black\",\n",
    "            kde = True, label = \"Frequency\", legend = True, ax=ax2, color='skyblue')\n",
    "ax2.set_xlabel(\"Percentage of women (%)\", fontweight = 'bold')\n",
    "ax2.set_ylabel(\"Count\", fontweight = 'bold')\n",
    "ax2.set_title(\"DISTRIBUTION OF % OF WOMEN IN EACH MAJOR CATEGORY\", fontweight = 'bold')"
   ]
  },
  {
   "cell_type": "code",
   "execution_count": 39,
   "id": "e3d40ed0",
   "metadata": {},
   "outputs": [
    {
     "data": {
      "text/plain": [
       "Text(0.5, 1.0, 'MEN WITH LOW WAGE JOBS')"
      ]
     },
     "execution_count": 39,
     "metadata": {},
     "output_type": "execute_result"
    }
   ],
   "source": [
    "# Plot 3: Box plot of Men with Low wage jobs\n",
    "top_15 = data.sort_values(by=\"Men\", ascending=False).head(15)\n",
    "sns.boxplot(x=\"Men\", y=\"Low_wage_jobs\", data=top_15, ax=ax3, palette='viridis')\n",
    "ax3.set_xticklabels(ax3.get_xticklabels(), rotation=45)\n",
    "ax3.set_xlabel(\"Men\", fontweight='bold')\n",
    "ax3.set_ylabel(\"Low_wage_jobs\", fontweight='bold')\n",
    "ax3.set_title(\"MEN WITH LOW WAGE JOBS\", fontweight='bold')"
   ]
  },
  {
   "cell_type": "code",
   "execution_count": 40,
   "id": "05f5b0b5",
   "metadata": {},
   "outputs": [
    {
     "data": {
      "text/plain": [
       "Text(0.5, 1.0, 'LOW WAGE JOBS FOR MAJOR COURSES')"
      ]
     },
     "execution_count": 40,
     "metadata": {},
     "output_type": "execute_result"
    }
   ],
   "source": [
    "# Plot 4: Create a line plot\n",
    "data_sorted = data.sort_values('Low_wage_jobs') \n",
    "last_10_majors = data_sorted.tail(10)\n",
    "sns.lineplot(x=last_10_majors['Low_wage_jobs'], y=last_10_majors['Major'], ax=ax4)\n",
    "ax4.set_xlabel('Low_wage_jobs', fontweight='bold')\n",
    "ax4.set_ylabel('Major', fontweight='bold')\n",
    "ax4.set_title('LOW WAGE JOBS FOR MAJOR COURSES', fontweight='bold')"
   ]
  },
  {
   "cell_type": "code",
   "execution_count": 41,
   "id": "27206ca1",
   "metadata": {},
   "outputs": [
    {
     "data": {
      "text/plain": [
       "Text(0.5, 1.0, 'NUMBER OF MAJORS IN EACH CATEGORY')"
      ]
     },
     "execution_count": 41,
     "metadata": {},
     "output_type": "execute_result"
    }
   ],
   "source": [
    "# Plot 5: Pie chart of number of majors in each major category\n",
    "explode = (0.1, 0.1, 0.1, 0.1, 0.1, 0.1, 0.1, 0.1, 0.1, 0.1, 0.1, 0.1, 0.1, 0.1, 0.1, 0.1)\n",
    "ax5.pie(data[\"Major_category\"].value_counts(), labels=data[\"Major_category\"].value_counts().index, explode=explode, autopct=\"%1.1f%%\", startangle=45, colors=sns.color_palette(\"viridis\", len(data[\"Major_category\"].value_counts().index)))\n",
    "ax5.set_title(\"NUMBER OF MAJORS IN EACH CATEGORY\", fontweight='bold')"
   ]
  },
  {
   "cell_type": "code",
   "execution_count": 42,
   "id": "79a406a5",
   "metadata": {},
   "outputs": [
    {
     "data": {
      "text/plain": [
       "Text(0.1, 0.4, 'THESE ARE THE SUBJECTS ON WHICH HUMAN RACE IS ON FOR THEIR LIFE AND MONEY : \\n\\n PLOT 1: \\n The high median income of petroleum engineers can be attributed to the nature of their work, \\n the physical and mental demands of the job, and their level of education. \\n\\n PLOT 2: \\n Women Dominate Employment Within each and every field compared to Mens shows Women too \\n getting Freedom from some traditional barrages  in some parts of Eastern Countries. \\n\\n PLOT 3: \\n Most of the mens are working for 48K i.e 86648 Mens. \\n\\n PLOT 4: \\n History subject has lowest salary ever recorded compared to Psychology Subject.\\n\\n PLOT 5: \\n Students loves to choose Engineering first and Interdisciplinary Last, may be for evolving world!.')"
      ]
     },
     "execution_count": 42,
     "metadata": {},
     "output_type": "execute_result"
    }
   ],
   "source": [
    "# Explaining the graphs\n",
    "ax6.grid(False)\n",
    "ax6.axis('off')\n",
    "ax6.text(0.1, 0.4, 'THESE ARE THE SUBJECTS ON WHICH HUMAN RACE IS ON FOR THEIR LIFE AND MONEY : \\n\\n PLOT 1: \\n The high median income of petroleum engineers can be attributed to the nature of their work, \\n the physical and mental demands of the job, and their level of education. \\n\\n PLOT 2: \\n Women Dominate Employment Within each and every field compared to Mens shows Women too \\n getting Freedom from some traditional barrages  in some parts of Eastern Countries. \\n\\n PLOT 3: \\n Most of the mens are working for 48K i.e 86648 Mens. \\n\\n PLOT 4: \\n History subject has lowest salary ever recorded compared to Psychology Subject.\\n\\n PLOT 5: \\n Students loves to choose Engineering first and Interdisciplinary Last, may be for evolving world!.', verticalalignment='bottom', bbox=dict(boxstyle='round', facecolor='white', alpha=0.5), fontsize=14, fontweight='bold', visible=True)"
   ]
  },
  {
   "cell_type": "code",
   "execution_count": 43,
   "id": "6c766dd2",
   "metadata": {},
   "outputs": [
    {
     "data": {
      "text/plain": [
       "Text(0.5, 0.98, 'ARE THESE THE TOP SUBJECTS IN THE WORLD? \\n\\n Kurva Pavan Kumar \\n\\n Student ID: 22065713')"
      ]
     },
     "execution_count": 43,
     "metadata": {},
     "output_type": "execute_result"
    }
   ],
   "source": [
    "# Add overall title\n",
    "fig.suptitle('ARE THESE THE TOP SUBJECTS IN THE WORLD? \\n\\n Kurva Pavan Kumar \\n\\n Student ID: 22065713', fontsize=20, fontweight='bold')"
   ]
  },
  {
   "cell_type": "code",
   "execution_count": 44,
   "id": "87ccdda9",
   "metadata": {},
   "outputs": [
    {
     "data": {
      "text/plain": [
       "<Figure size 640x480 with 0 Axes>"
      ]
     },
     "metadata": {},
     "output_type": "display_data"
    }
   ],
   "source": [
    "#save the figure\n",
    "plt.savefig('22065713.png', dpi=300, bbox_inches='tight')"
   ]
  },
  {
   "cell_type": "code",
   "execution_count": null,
   "id": "54e39e7b",
   "metadata": {},
   "outputs": [],
   "source": []
  },
  {
   "cell_type": "code",
   "execution_count": null,
   "id": "9200ecbd",
   "metadata": {},
   "outputs": [],
   "source": []
  }
 ],
 "metadata": {
  "kernelspec": {
   "display_name": "Python 3 (ipykernel)",
   "language": "python",
   "name": "python3"
  },
  "language_info": {
   "codemirror_mode": {
    "name": "ipython",
    "version": 3
   },
   "file_extension": ".py",
   "mimetype": "text/x-python",
   "name": "python",
   "nbconvert_exporter": "python",
   "pygments_lexer": "ipython3",
   "version": "3.11.4"
  }
 },
 "nbformat": 4,
 "nbformat_minor": 5
}
